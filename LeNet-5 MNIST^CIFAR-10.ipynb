{
 "cells": [
  {
   "cell_type": "code",
   "execution_count": 41,
   "id": "a77ae3bc",
   "metadata": {},
   "outputs": [],
   "source": [
    "import tensorflow as tf\n",
    "from tensorflow.keras import Model\n",
    "from tensorflow.keras.models import Sequential\n",
    "from tensorflow.keras.layers import Dense, Flatten, Conv2D, AveragePooling2D, MaxPool2D"
   ]
  },
  {
   "cell_type": "code",
   "execution_count": 30,
   "id": "0c9152fe",
   "metadata": {},
   "outputs": [],
   "source": [
    "mnist = tf.keras.datasets.mnist\n",
    "(x_train, y_train),(x_test, y_test) = mnist.load_data()"
   ]
  },
  {
   "cell_type": "code",
   "execution_count": 31,
   "id": "cc5c0f4e",
   "metadata": {},
   "outputs": [],
   "source": [
    "#Reshaping image dimensions \n",
    "x_train = x_train.reshape(x_train.shape[0], 28, 28, 1)\n",
    "x_test = x_test.reshape(x_test.shape[0], 28, 28, 1)"
   ]
  },
  {
   "cell_type": "code",
   "execution_count": 32,
   "id": "e2a2c42a",
   "metadata": {},
   "outputs": [],
   "source": [
    "x_train = tf.keras.utils.normalize(x_train, axis=1)  \n",
    "x_test = tf.keras.utils.normalize(x_test, axis=1) "
   ]
  },
  {
   "cell_type": "code",
   "execution_count": 33,
   "id": "f5936c2c",
   "metadata": {},
   "outputs": [
    {
     "name": "stdout",
     "output_type": "stream",
     "text": [
      "Model: \"sequential_2\"\n",
      "_________________________________________________________________\n",
      "Layer (type)                 Output Shape              Param #   \n",
      "=================================================================\n",
      "conv2d_2 (Conv2D)            (None, 26, 26, 6)         60        \n",
      "_________________________________________________________________\n",
      "average_pooling2d_2 (Average (None, 13, 13, 6)         0         \n",
      "_________________________________________________________________\n",
      "conv2d_3 (Conv2D)            (None, 11, 11, 16)        880       \n",
      "_________________________________________________________________\n",
      "average_pooling2d_3 (Average (None, 5, 5, 16)          0         \n",
      "_________________________________________________________________\n",
      "flatten_1 (Flatten)          (None, 400)               0         \n",
      "_________________________________________________________________\n",
      "dense_2 (Dense)              (None, 128)               51328     \n",
      "_________________________________________________________________\n",
      "dense_3 (Dense)              (None, 10)                1290      \n",
      "=================================================================\n",
      "Total params: 53,558\n",
      "Trainable params: 53,558\n",
      "Non-trainable params: 0\n",
      "_________________________________________________________________\n"
     ]
    }
   ],
   "source": [
    "model = Sequential()\n",
    "model.add(Conv2D(filters=6, kernel_size=(3, 3), activation='tanh', input_shape=(28,28,1)))\n",
    "model.add(AveragePooling2D())\n",
    "model.add(Conv2D(filters=16, kernel_size=(3, 3), activation='tanh'))\n",
    "model.add(AveragePooling2D())\n",
    "model.add(Flatten())\n",
    "model.add(Dense(units=128, activation='tanh'))\n",
    "model.add(Dense(units=10, activation = 'softmax'))\n",
    "model.summary()"
   ]
  },
  {
   "cell_type": "code",
   "execution_count": 34,
   "id": "13ea5cce",
   "metadata": {},
   "outputs": [],
   "source": [
    "model.compile(optimizer='adam', loss='sparse_categorical_crossentropy', metrics=['accuracy'])"
   ]
  },
  {
   "cell_type": "code",
   "execution_count": 35,
   "id": "ff7d007a",
   "metadata": {},
   "outputs": [
    {
     "name": "stdout",
     "output_type": "stream",
     "text": [
      "Train on 60000 samples, validate on 10000 samples\n",
      "Epoch 1/10\n",
      "60000/60000 [==============================] - 40s 673us/sample - loss: 0.3045 - accuracy: 0.9111 - val_loss: 0.1556 - val_accuracy: 0.9521\n",
      "Epoch 2/10\n",
      "60000/60000 [==============================] - 40s 660us/sample - loss: 0.1237 - accuracy: 0.9626 - val_loss: 0.1009 - val_accuracy: 0.9680\n",
      "Epoch 3/10\n",
      "60000/60000 [==============================] - 42s 697us/sample - loss: 0.0843 - accuracy: 0.9746 - val_loss: 0.0767 - val_accuracy: 0.9769\n",
      "Epoch 4/10\n",
      "60000/60000 [==============================] - 40s 670us/sample - loss: 0.0642 - accuracy: 0.9805 - val_loss: 0.0639 - val_accuracy: 0.9787\n",
      "Epoch 5/10\n",
      "60000/60000 [==============================] - 41s 681us/sample - loss: 0.0509 - accuracy: 0.9850 - val_loss: 0.0596 - val_accuracy: 0.9817\n",
      "Epoch 6/10\n",
      "60000/60000 [==============================] - 42s 700us/sample - loss: 0.0412 - accuracy: 0.9872 - val_loss: 0.0570 - val_accuracy: 0.9807\n",
      "Epoch 7/10\n",
      "60000/60000 [==============================] - 41s 691us/sample - loss: 0.0341 - accuracy: 0.9895 - val_loss: 0.0509 - val_accuracy: 0.9830\n",
      "Epoch 8/10\n",
      "60000/60000 [==============================] - 41s 677us/sample - loss: 0.0284 - accuracy: 0.9912 - val_loss: 0.0525 - val_accuracy: 0.9819\n",
      "Epoch 9/10\n",
      "60000/60000 [==============================] - 43s 710us/sample - loss: 0.0244 - accuracy: 0.9929 - val_loss: 0.0475 - val_accuracy: 0.9839\n",
      "Epoch 10/10\n",
      "60000/60000 [==============================] - 41s 686us/sample - loss: 0.0207 - accuracy: 0.9940 - val_loss: 0.0498 - val_accuracy: 0.9826\n"
     ]
    },
    {
     "data": {
      "text/plain": [
       "<tensorflow.python.keras.callbacks.History at 0x7fea09120150>"
      ]
     },
     "execution_count": 35,
     "metadata": {},
     "output_type": "execute_result"
    }
   ],
   "source": [
    "model.fit(x_train, y_train, epochs=10, validation_data=(x_test, y_test))"
   ]
  },
  {
   "cell_type": "code",
   "execution_count": 38,
   "id": "92d2f945",
   "metadata": {},
   "outputs": [],
   "source": [
    "from keras.datasets import cifar10"
   ]
  },
  {
   "cell_type": "code",
   "execution_count": 39,
   "id": "6d44e5d5",
   "metadata": {},
   "outputs": [],
   "source": [
    "(input_train, output_train), (input_test, output_test) = cifar10.load_data()"
   ]
  },
  {
   "cell_type": "code",
   "execution_count": 42,
   "id": "9dbafd77",
   "metadata": {},
   "outputs": [],
   "source": [
    "model = Sequential()\n",
    "model.add(Conv2D(30, kernel_size=(3, 3), padding='valid', activation='relu', input_shape=(32, 32, 3)))\n",
    "model.add(MaxPool2D(pool_size=(2, 2), padding='valid'))\n",
    "model.add(Conv2D(13, kernel_size=(3,3), padding='valid', activation='relu'))\n",
    "model.add(MaxPool2D(pool_size=(2, 2), padding='valid'))\n",
    "model.add(Flatten())\n",
    "model.add(Dense(120, activation='relu'))\n",
    "model.add(Dense(86, activation='relu'))\n",
    "model.add(Dense(10, activation='softmax'))"
   ]
  },
  {
   "cell_type": "code",
   "execution_count": 44,
   "id": "b74d0245",
   "metadata": {},
   "outputs": [],
   "source": [
    "model.compile(optimizer = 'adam', loss='categorical_crossentropy', metrics=['accuracy'])"
   ]
  },
  {
   "cell_type": "code",
   "execution_count": 45,
   "id": "0ee32996",
   "metadata": {},
   "outputs": [
    {
     "name": "stdout",
     "output_type": "stream",
     "text": [
      "Train on 50000 samples\n",
      "Epoch 1/10\n",
      "50000/50000 [==============================] - 149s 3ms/sample - loss: 1.5414 - accuracy: 0.4392\n",
      "Epoch 2/10\n",
      "50000/50000 [==============================] - 136s 3ms/sample - loss: 1.2092 - accuracy: 0.5664\n",
      "Epoch 3/10\n",
      "50000/50000 [==============================] - 135s 3ms/sample - loss: 1.0829 - accuracy: 0.6171\n",
      "Epoch 4/10\n",
      "50000/50000 [==============================] - 140s 3ms/sample - loss: 0.9878 - accuracy: 0.6489\n",
      "Epoch 5/10\n",
      "50000/50000 [==============================] - 138s 3ms/sample - loss: 0.9217 - accuracy: 0.6742\n",
      "Epoch 6/10\n",
      "50000/50000 [==============================] - 144s 3ms/sample - loss: 0.8614 - accuracy: 0.6970\n",
      "Epoch 7/10\n",
      "50000/50000 [==============================] - 141s 3ms/sample - loss: 0.8094 - accuracy: 0.7141\n",
      "Epoch 8/10\n",
      "50000/50000 [==============================] - 142s 3ms/sample - loss: 0.7666 - accuracy: 0.7298\n",
      "Epoch 9/10\n",
      "50000/50000 [==============================] - 142s 3ms/sample - loss: 0.7251 - accuracy: 0.7427\n",
      "Epoch 10/10\n",
      "50000/50000 [==============================] - 142s 3ms/sample - loss: 0.6886 - accuracy: 0.7570\n"
     ]
    },
    {
     "data": {
      "text/plain": [
       "<tensorflow.python.keras.callbacks.History at 0x7fe9fdfee0d0>"
      ]
     },
     "execution_count": 45,
     "metadata": {},
     "output_type": "execute_result"
    }
   ],
   "source": [
    "model.fit(input_train/255, to_categorical(output_train), epochs=10, batch_size=32)"
   ]
  },
  {
   "cell_type": "code",
   "execution_count": null,
   "id": "60aed5e0",
   "metadata": {},
   "outputs": [],
   "source": []
  }
 ],
 "metadata": {
  "kernelspec": {
   "display_name": "Python 3 (ipykernel)",
   "language": "python",
   "name": "python3"
  },
  "language_info": {
   "codemirror_mode": {
    "name": "ipython",
    "version": 3
   },
   "file_extension": ".py",
   "mimetype": "text/x-python",
   "name": "python",
   "nbconvert_exporter": "python",
   "pygments_lexer": "ipython3",
   "version": "3.7.11"
  }
 },
 "nbformat": 4,
 "nbformat_minor": 5
}
